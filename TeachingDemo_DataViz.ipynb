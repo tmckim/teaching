{
  "cells": [
    {
      "cell_type": "markdown",
      "id": "09400d13-c4aa-471d-b71b-c784c7548907",
      "metadata": {
        "id": "09400d13-c4aa-471d-b71b-c784c7548907"
      },
      "source": [
        "# Plotting Neural Data Demo\n",
        "\n",
        "### Neural data can be complex and can contain many variables within one dataset. How do we make sense of this information in a meaningful way?\n",
        "\n",
        "Today, we will plot the calcium signal from inhibitory neurons recorded while mice performed a visual discrimination task. \n",
        "\n",
        "\n",
        "This notebook will help us investigate data collected from the [Visual Behavior 2P](https://portal.brain-map.org/explore/circuits/visual-behavior-2p) dataset from the Allen Brain Institute. \n",
        "\n",
        "We will also introduce concepts about coding in Python along the way.\n",
        "\n",
        "\n",
        "---\n",
        "### Prior activities that provide a foundation for using this notebook:\n",
        "- Work through the **Introduction to Jupyter Notebooks** [tutorial](https://www.dataquest.io/blog/jupyter-notebook-tutorial/) which will introduce you to Python and the Jupyter Notebook environment.\n",
        "\n",
        "\n",
        "<hr>"
      ]
    },
    {
      "cell_type": "markdown",
      "source": [
        "# Learning Objectives\n",
        "\n",
        "## At the end of this notebook, you'll be able to:\n",
        "* Use Colab/Jupyter Notebooks to run Python Code\n",
        "* Understand and use common Python packages for data visualization\n",
        "* Plot calcium imaging data\n",
        "* Apply best practices for graphing data \n",
        "\n",
        "\n",
        "\n"
      ],
      "metadata": {
        "id": "My3qORild-JL"
      },
      "id": "My3qORild-JL"
    },
    {
      "cell_type": "markdown",
      "source": [
        "# Dataset Notes\n",
        "\n",
        "The entire dataset includes neural and behavioral measurements from: \n",
        "\n",
        "*   107 mice\n",
        "*   4787 behavior training sessions\n",
        "*   704 *in vivo* imaging sessions\n",
        "\n",
        "The data are openly accessible, and include information about all recorded timeseries, behavioral events, and experimental data in a standard data format: [Neurodata Without Borders (NWB)](https://www.nwb.org/nwb-neurophysiology/).\n",
        "\n",
        "There are many variables in this dataset that could be explored and analyzed, but for the purposes of the exercise today, we will use a subset of the data for simplicity. The variables included and used will be described a bit later.\n"
      ],
      "metadata": {
        "id": "u1FIAduH4VP5"
      },
      "id": "u1FIAduH4VP5"
    },
    {
      "cell_type": "markdown",
      "source": [
        "# Section 1: Setup and Data Intro"
      ],
      "metadata": {
        "id": "IDQpPjIF5Cd0"
      },
      "id": "IDQpPjIF5Cd0"
    },
    {
      "cell_type": "markdown",
      "id": "743a0485-d324-432e-8b1d-f9f9c718230e",
      "metadata": {
        "id": "743a0485-d324-432e-8b1d-f9f9c718230e",
        "tags": []
      },
      "source": [
        "<a id=\"one\"></a>\n",
        "## Step 1: Set up coding environment\n",
        "Each time we start an analysis in Python, we must import the necessary code packages. If you're running this notebook in Colab, the cells below will install packages into your coding environment -- these are *not* installed on your computer.\n",
        "\n",
        "### Import common packages\n",
        "Below, we'll `import` a common selection of packages that will help us analyze and plot our data. We'll also configure the plotting in our notebook.\n",
        "\n",
        "*   This will ensure that our coding environment has [NumPy](https://numpy.org/), [Pandas](https://pandas.pydata.org/), [Matplotlib](https://matplotlib.org/), and [Seaborn](https://seaborn.pydata.org/) installed. \n",
        "\n",
        "><b>Task</b>: Import the numpy module nicknamed as <code>np</code>. Add a <code>print</code> message at the end that says \"Packages imported!\" so that you know the code ran.\n",
        "\n",
        "\n",
        "\n",
        ">> <u>Hint</u>: This is similar to the exercise from the **[Introduction to Jupyter Notebooks](https://www.dataquest.io/blog/jupyter-notebook-tutorial/)** tutorial."
      ]
    },
    {
      "cell_type": "code",
      "execution_count": null,
      "id": "71cd06b4-7d1a-4dbf-9c70-8848fdec2f84",
      "metadata": {
        "id": "71cd06b4-7d1a-4dbf-9c70-8848fdec2f84"
      },
      "outputs": [],
      "source": [
        "# Import our plotting package from matplotlib\n",
        "import matplotlib.pyplot as plt\n",
        "\n",
        "# Specify that all plots will happen inline & in high resolution\n",
        "%matplotlib inline  \n",
        "%config InlineBackend.figure_format = 'retina'\n",
        "\n",
        "# Import pandas for working with databases\n",
        "import pandas as pd\n",
        "\n",
        "# Import seaborn for plotting adjustments with matplotlib\n",
        "import seaborn as sns\n",
        "\n",
        "## <Add your code below>\n",
        "# Import numpy below\n",
        "\n",
        "\n",
        "# Add your print() statement below\n"
      ]
    },
    {
      "cell_type": "markdown",
      "id": "aa087818-b0fd-4836-ac55-87d0c26b2403",
      "metadata": {
        "id": "aa087818-b0fd-4836-ac55-87d0c26b2403"
      },
      "source": [
        "## Step 2: Load and Examine Data Structure"
      ]
    },
    {
      "cell_type": "markdown",
      "source": [
        "><b>Task</b>: Run the code below to access the data file from github repository."
      ],
      "metadata": {
        "id": "-WzSf6zXma2k"
      },
      "id": "-WzSf6zXma2k"
    },
    {
      "cell_type": "code",
      "source": [
        "# Load the data from github repo\n",
        "!git clone https://github.com/tmckim/teaching.git"
      ],
      "metadata": {
        "id": "t_LGnMba3NLM"
      },
      "id": "t_LGnMba3NLM",
      "execution_count": null,
      "outputs": []
    },
    {
      "cell_type": "markdown",
      "source": [
        "><b>Task</b>: Run the code below to read the dataset into a **pandas** dataframe."
      ],
      "metadata": {
        "id": "vo40u9Timlom"
      },
      "id": "vo40u9Timlom"
    },
    {
      "cell_type": "code",
      "execution_count": null,
      "id": "61b61659-0423-4c6e-aff9-82229f1f4446",
      "metadata": {
        "id": "61b61659-0423-4c6e-aff9-82229f1f4446"
      },
      "outputs": [],
      "source": [
        "# Load the data file - SST_data.csv\n",
        "data = pd.read_csv('/content/teaching/data/SST_data.csv')\n",
        "\n",
        "# Show the data for review\n",
        "data"
      ]
    },
    {
      "cell_type": "markdown",
      "id": "0cf56324-e40a-4f1f-8924-b73e085977f6",
      "metadata": {
        "id": "0cf56324-e40a-4f1f-8924-b73e085977f6"
      },
      "source": [
        "As mentioned above, this dataset is borrowed from the Allen Institute and there is an introductory video on [Neuromatch Academy](https://compneuro.neuromatch.io/projects/neurons/README.html) with more details. \n",
        "\n",
        "Briefly: two-photon calcium imaging signals from a single mouse performing a visual change detection task are contained in this data file. This is simplified from the full dateset, so it only contains data from inhibitory neurons that were investigated in the study (Somatostatin (SST)-expressing interneurons). Example images of what these might look like and where they are in the brain can be found [here](https://observatory.brain-map.org/visualcoding/viewer?id=741951571). "
      ]
    },
    {
      "cell_type": "markdown",
      "source": [
        "### Example plot"
      ],
      "metadata": {
        "id": "EA2whqq8Qxx8"
      },
      "id": "EA2whqq8Qxx8"
    },
    {
      "cell_type": "markdown",
      "source": [
        "Here is an example of a simple plot. This is to demonstrate that with 7 lines of code, it's possible to visualize some of the data from this dataset. We will go through these lines step by step in the following sections, once you've had a chance to review the dataset. This initial plot is for demonstration, and so all you need to do at this point is review the code and run the cell to produce the plot.\n",
        "\n",
        "><b>Task</b>: Run the cell below to plot the data!"
      ],
      "metadata": {
        "id": "5UELnHRgTIeW"
      },
      "id": "5UELnHRgTIeW"
    },
    {
      "cell_type": "code",
      "source": [
        "# A simple plot\n",
        "# select trial id and cell id from dataframe\n",
        "singlecell_trial_data = data[(data.trial_id == 24) & (data.cell_id == 1086500633)]\n",
        "# array for calcium signal\n",
        "single_trial_trace = np.array(singlecell_trial_data.dF_F)\n",
        "# array for x-axis (time)\n",
        "single_trial_timepoints = np.array(singlecell_trial_data['time_from_stim'])\n",
        "# plot \n",
        "plt.plot(single_trial_timepoints, single_trial_trace)\n",
        "plt.xlabel('Time from image onset')\n",
        "plt.ylabel('Calcium flourescence')\n",
        "plt.title('Single cell calcium activity')"
      ],
      "metadata": {
        "id": "eT5WkZYKQvYE"
      },
      "id": "eT5WkZYKQvYE",
      "execution_count": null,
      "outputs": []
    },
    {
      "cell_type": "markdown",
      "source": [
        "### Examine dataset"
      ],
      "metadata": {
        "id": "i71aZNBxRDRp"
      },
      "id": "i71aZNBxRDRp"
    },
    {
      "cell_type": "markdown",
      "source": [
        "Now, let's take a closer look at the data and do some preliminary exploration to understand what we are working with. \n",
        "\n",
        "><b>Task</b>: Run the cell below to see how many cells are in the dataset."
      ],
      "metadata": {
        "id": "eIMlTxlMN0bh"
      },
      "id": "eIMlTxlMN0bh"
    },
    {
      "cell_type": "code",
      "execution_count": null,
      "id": "c9fbc8c3-03d3-4523-8c91-8fa6c9283a4f",
      "metadata": {
        "id": "c9fbc8c3-03d3-4523-8c91-8fa6c9283a4f"
      },
      "outputs": [],
      "source": [
        "# Find the unique entries from the cell_id column of the dataset\n",
        "# Review: index the dataframe using .COLUMN_NAME to refer to the column that you want\n",
        "data.cell_id.unique()"
      ]
    },
    {
      "cell_type": "markdown",
      "source": [
        "><b>Task</b>: Run the code below to select a cell_id and trial_id from the dataset. Display and review the data."
      ],
      "metadata": {
        "id": "M9qXCkQkOX7f"
      },
      "id": "M9qXCkQkOX7f"
    },
    {
      "cell_type": "code",
      "execution_count": null,
      "metadata": {
        "id": "bb450645-d5fd-41f2-92c5-8dd160787fcd"
      },
      "outputs": [],
      "source": [
        "# select which trial id and cell id from the dataframe\n",
        "singlecell_trial_data = data[(data.trial_id == 24) & (data.cell_id == 1086500633)]\n",
        "\n",
        "# Display the data\n",
        "singlecell_trial_data"
      ],
      "id": "bb450645-d5fd-41f2-92c5-8dd160787fcd"
    },
    {
      "cell_type": "markdown",
      "source": [
        "<u> **Note on data format**</u>: the dataset is in long-format, meaning that a `trial_id` is repeated across multiple rows of the dataset. So, a single `cell_id` is repeated across the rows. This is in contrast to wide format, where each row would represent a different `cell_id `and all data for that cell would be contained in the columns of a single row. See the wide format table below, focusing on the 'dff' column (which has multiple values in it) in the example image below for comparison:\n",
        "\n",
        "![](https://github.com/tmckim/teaching/blob/ac99bee311f132ef64d547807559022034e0ea87/imgs/data_wide.png?raw=true)\n",
        "\n"
      ],
      "metadata": {
        "id": "YS_vUYO39HiO"
      },
      "id": "YS_vUYO39HiO"
    },
    {
      "cell_type": "markdown",
      "id": "ddef34a4-e99f-4fcd-b28b-8cd68c317d0c",
      "metadata": {
        "id": "ddef34a4-e99f-4fcd-b28b-8cd68c317d0c"
      },
      "source": [
        "## Step 3: Review variables (columns) in the dataset\n",
        "\n",
        "`dF_F` calcium imaging signal (baseline corrected, normalized fluorescence) <br>\n",
        "`time_from_stim` is the timepoint of each row of data, aligned to an image presentation. Onset = time zero, and the times here span a (-1.25, 1.5) sec window  <br>\n",
        "`cell_id` id number for the cell <br>\n",
        "`exposure` whether the image for a trial was familiar or novel  <br>\n",
        "`trial_id` each image presentation is a separate trial <br>\n",
        "`omitted` whether a trial had an omitted image <br>\n",
        "`pupil_area` measured 500ms after stimulus presntation <br>\n",
        "`mean_response` average dF/F over the 500ms following image presentation <br>"
      ]
    },
    {
      "cell_type": "markdown",
      "id": "190e4ee4-8bf8-40d7-a324-a87905cac5c7",
      "metadata": {
        "id": "190e4ee4-8bf8-40d7-a324-a87905cac5c7"
      },
      "source": [
        "# Section 2: Plotting with Matplotlib\n",
        "Let's plot the trace of a single cell, on a single trial. \n",
        "\n",
        "We can use the package **matplotlib** (which we imported as `plt`) for this. \n",
        "\n",
        "First, we need to select the data we want to plot. "
      ]
    },
    {
      "cell_type": "markdown",
      "source": [
        "## Step 1: Select data to plot\n",
        "\n",
        "><b>Task</b>: Run the code below to select a ```cell_id``` and ```trial_id``` from the dataset. I've already picked one to start for now. You will have the opportunity to select your own later :)"
      ],
      "metadata": {
        "id": "wdPGQIEmQXuH"
      },
      "id": "wdPGQIEmQXuH"
    },
    {
      "cell_type": "code",
      "execution_count": null,
      "id": "6ff5be1d-4608-40e3-89ad-0013dcc0fe55",
      "metadata": {
        "id": "6ff5be1d-4608-40e3-89ad-0013dcc0fe55"
      },
      "outputs": [],
      "source": [
        "# Select trial id and cell id from the dataframe\n",
        "single_trial_data = data[(data.trial_id == 605) & (data.cell_id == 1086500092)]\n",
        "\n",
        "# Show the data we selected\n",
        "single_trial_data"
      ]
    },
    {
      "cell_type": "markdown",
      "source": [
        "><b>Task</b>: Insert the correct column name into the code below at `<insert_var_name>`. Run the code. <br>\n",
        "We use the package **numpy**  (which we imported as `np`) to convert the data column to an array for plotting.\n",
        "\n",
        ">> <u>Hint</u>: We want to plot the column with the calcium signal ```dF_F```.\n",
        "\n"
      ],
      "metadata": {
        "id": "3DYwvbtJRpLR"
      },
      "id": "3DYwvbtJRpLR"
    },
    {
      "cell_type": "code",
      "execution_count": null,
      "id": "123162af-5975-4270-8989-a15d4d332ef5",
      "metadata": {
        "id": "123162af-5975-4270-8989-a15d4d332ef5"
      },
      "outputs": [],
      "source": [
        "# Make an array out of the dataset variable we want to plot- calcium signal\n",
        "\n",
        "# <Adjust this code below>\n",
        "single_trial_trace = np.array(single_trial_data.<insert_var_name>)\n",
        "\n",
        "# Show the values\n",
        "single_trial_trace"
      ]
    },
    {
      "cell_type": "markdown",
      "source": [
        "## Step 2: Plot\n",
        "><b>Task</b>: Insert the name of the variable we want to plot to show the \n",
        "calcium signal using **matplotlib**. \n",
        "\n",
        "Run the code once you've added the variable below in place of ```<insert_var_name>```.\n",
        "\n",
        ">> <u>Hint</u>: We created this variable above^."
      ],
      "metadata": {
        "id": "y06zPkm_STJU"
      },
      "id": "y06zPkm_STJU"
    },
    {
      "cell_type": "code",
      "execution_count": null,
      "id": "f223b240-3ce7-4a1d-8199-0207f5e68095",
      "metadata": {
        "id": "f223b240-3ce7-4a1d-8199-0207f5e68095"
      },
      "outputs": [],
      "source": [
        "# Use matplotlib (plt) to plot our variable of interest\n",
        "\n",
        "# <Adjust this code below>\n",
        "plt.plot(<insert_var_name>)\n",
        "\n"
      ]
    },
    {
      "cell_type": "markdown",
      "id": "be79bcf5-7683-41ea-a239-eecad7bc43ae",
      "metadata": {
        "id": "be79bcf5-7683-41ea-a239-eecad7bc43ae"
      },
      "source": [
        "Great! We have our first plot. Take a look and see what you think. \n",
        "\n",
        "Can you make sense of this data as it is? Is there anything missing?"
      ]
    },
    {
      "cell_type": "markdown",
      "source": [
        "## Step 3: Plot 2.0\n",
        "\n",
        "><b>Task</b>: Let's add a more informative x-axis. We have values in our dataset that we can use for this. Find the name of the column we should use from the dataset info above, and insert the variable name into the code below. \n",
        "\n",
        "Run the code once you've added the variable below in place of ```<insert_var_name>```.\n",
        "\n",
        ">> <u>Hint</u>: This is usually a time variable."
      ],
      "metadata": {
        "id": "zn5tMGatTsjD"
      },
      "id": "zn5tMGatTsjD"
    },
    {
      "cell_type": "code",
      "execution_count": null,
      "id": "f451143a-50b1-4782-8905-a1d6034156b6",
      "metadata": {
        "id": "f451143a-50b1-4782-8905-a1d6034156b6"
      },
      "outputs": [],
      "source": [
        "# Add the column name (variable) we should use to scale the x-axis in the plot\n",
        "\n",
        "# <Adjust this code below>\n",
        "single_trial_timepoints = np.array(single_trial_data['<insert_var_name>'])\n",
        "\n",
        "\n",
        "# Show the var\n",
        "single_trial_timepoints"
      ]
    },
    {
      "cell_type": "markdown",
      "source": [
        "><b>Task</b>: Replot the data.\n",
        "\n",
        "\n",
        "Run the code once you've added the variable below in place of ```x``` and ```y```.\n",
        "\n",
        "\n"
      ],
      "metadata": {
        "id": "wJhWGJj_embT"
      },
      "id": "wJhWGJj_embT"
    },
    {
      "cell_type": "code",
      "source": [
        "# Replot the data to include the x and y data \n",
        "\n",
        "# <Adjust this code below>\n",
        "plt.plot(x,y)\n",
        "\n"
      ],
      "metadata": {
        "id": "KROjFxs2VXjn"
      },
      "id": "KROjFxs2VXjn",
      "execution_count": null,
      "outputs": []
    },
    {
      "cell_type": "markdown",
      "source": [
        "Great! Now the x-axis has more informative time values related to how the data was collected. These values are timepoints aligned to an image presentation."
      ],
      "metadata": {
        "id": "4H5dJ_R3fHGP"
      },
      "id": "4H5dJ_R3fHGP"
    },
    {
      "cell_type": "markdown",
      "id": "776cd62c-af15-4117-a59e-cad414132aec",
      "metadata": {
        "id": "776cd62c-af15-4117-a59e-cad414132aec"
      },
      "source": [
        "><b>Task:</b> Label your axes and add a title accordingly using `plt.xlabel()`,  `plt.ylabel()`, and `plt.title()`.\n",
        "    \n",
        ">><u>Hint</u>: If you need help, see the [`plt.plot()` documentation](https://matplotlib.org/stable/api/_as_gen/matplotlib.pyplot.plot.html). "
      ]
    },
    {
      "cell_type": "code",
      "execution_count": null,
      "id": "de72c077-3d83-4de6-a944-5e13105d23b7",
      "metadata": {
        "id": "de72c077-3d83-4de6-a944-5e13105d23b7"
      },
      "outputs": [],
      "source": [
        "# Your plotting code (with axis labels and title) goes here"
      ]
    },
    {
      "cell_type": "markdown",
      "source": [
        "# Exercise\n",
        "\n",
        "\n",
        "1.   Repeat the above steps to plot a different cell and trial. \n",
        "  *   Produce a single plot that includes all labels and an informative title\n",
        "  *   Comment your code along the way to explain the steps and procedure you went through in your own words\n",
        "\n",
        "2.   Compare and contrast the calcium signals from the two cells that you have plotted with your partner. \n",
        "  *   Do they look similar or different? For example, you could discuss whether you chose similar cells, but different trials.\n",
        "  *   How does this relate to other variables in the dataset? (scroll back up to the list and the dataframe)\n",
        "\n"
      ],
      "metadata": {
        "id": "4y_P-suEe6Li"
      },
      "id": "4y_P-suEe6Li"
    },
    {
      "cell_type": "code",
      "source": [
        "# Exercise code goes here\n",
        "# Include comments for each line to briefly describe what you did"
      ],
      "metadata": {
        "id": "hB6Z_hQpf_Gd"
      },
      "id": "hB6Z_hQpf_Gd",
      "execution_count": null,
      "outputs": []
    },
    {
      "cell_type": "markdown",
      "source": [
        "Exercise Question 2: Note some observations that you discussed with your partner here."
      ],
      "metadata": {
        "id": "2Nie1hID8AxP"
      },
      "id": "2Nie1hID8AxP"
    },
    {
      "cell_type": "markdown",
      "id": "48704692-d69a-4cc2-8257-d5076692ac82",
      "metadata": {
        "id": "48704692-d69a-4cc2-8257-d5076692ac82"
      },
      "source": [
        "# Section 3: Plotting data with Seaborn"
      ]
    },
    {
      "cell_type": "markdown",
      "id": "34b27c2d-db2f-4635-a953-4b86a05d788b",
      "metadata": {
        "id": "34b27c2d-db2f-4635-a953-4b86a05d788b"
      },
      "source": [
        "\n",
        " **Seaborn** is a plotting package that works with matplotlib to more easily adjust the aesthetics of plots. \n",
        " \n",
        " \n",
        "><b>Task:</b> Read the [introduction](https://seaborn.pydata.org/tutorial/introduction.html) to the package, up to and including the **Statistical estimation section**. After reading, return to the notebook and continue exploring this package with the guided prompts below. \n",
        "\n"
      ]
    },
    {
      "cell_type": "markdown",
      "id": "7db98efe-f434-4d3c-91db-052e0b36f157",
      "metadata": {
        "id": "7db98efe-f434-4d3c-91db-052e0b36f157"
      },
      "source": [
        "## Step 1: Plotting separate conditions with Seaborn\n",
        "Recall that we imported **seaborn** as `sns`. First, we will use a function called `sns.lineplot`. We will use this to plot our calcium signal based on familiar and novel trials. **Seaborn** allows us to do this by using `hue` in combination with the name of our variable of interest. <br>\n",
        "\n",
        "Read what this does and refer to the examples in the `sns.lineplot` [documentation](https://seaborn.pydata.org/generated/seaborn.lineplot.html#seaborn.lineplot). "
      ]
    },
    {
      "cell_type": "markdown",
      "source": [
        "Familiar and novel trials in the dataset:\n",
        "\n",
        "![](https://allensdk.readthedocs.io/en/latest/_static/visual_behavior_2p/expt_design_notes.png)"
      ],
      "metadata": {
        "id": "S7w1ec26oQUg"
      },
      "id": "S7w1ec26oQUg"
    },
    {
      "cell_type": "markdown",
      "source": [
        "><b>Task:</b> Run the code once you've added the variable for the familiar/novel conditions below in place of ```<insert_var_name>```.\n",
        "\n",
        "\n",
        ">><u>Hint</u>: Review the columns from the dataset print outs above^. \n",
        "\n",
        "\n",
        "Note: This may take a few seconds, compared to how long it took for the previous plotting code to run above. There are some statistics being computed in the background, so it takes a bit longer (~10 secs) for the plot to be displayed."
      ],
      "metadata": {
        "id": "JAeO-lts-RMe"
      },
      "id": "JAeO-lts-RMe"
    },
    {
      "cell_type": "code",
      "execution_count": null,
      "id": "6ed467d3-6123-4118-b0cf-9fa0b6175826",
      "metadata": {
        "id": "6ed467d3-6123-4118-b0cf-9fa0b6175826"
      },
      "outputs": [],
      "source": [
        "# Lineplot code\n",
        "\n",
        "# <Adjust this code below>\n",
        "sns.lineplot(data = data, x = 'time_from_stim', y = 'dF_F', hue = '<insert_var_name>')\n",
        "\n"
      ]
    },
    {
      "cell_type": "markdown",
      "source": [
        "><b>Task:</b> Review the plot above. How does this output compare to what was produced when we plotted with **matplotlib**?\n",
        "\n",
        ">>Hint: Which specific aspects of the plot were added automatically?"
      ],
      "metadata": {
        "id": "wEHcI11ywEW0"
      },
      "id": "wEHcI11ywEW0"
    },
    {
      "cell_type": "markdown",
      "source": [
        "Now, let's plot again, but using a different function within **seaborn** to compare. <br>\n",
        "Review the documentation on `relplot` [here](https://seaborn.pydata.org/tutorial/relational.html#visualizing-statistical-relationships). <br>\n",
        "Read the first section **[Visualizaing statistical relationships](https://seaborn.pydata.org/tutorial/relational.html#visualizing-statistical-relationships)**, and then scroll below (you can skip the sections leading up to the next one ->) and read **[Emphasizing continuity with line plots](https://seaborn.pydata.org/tutorial/relational.html#emphasizing-continuity-with-line-plots)**. "
      ],
      "metadata": {
        "id": "wfw5-KBJ_yVL"
      },
      "id": "wfw5-KBJ_yVL"
    },
    {
      "cell_type": "markdown",
      "source": [
        "><b>Task:</b> Run the code once you've set the parameter for `kind` instead of ```<insert_param>```.\n"
      ],
      "metadata": {
        "id": "YEhhLrzFJfC2"
      },
      "id": "YEhhLrzFJfC2"
    },
    {
      "cell_type": "code",
      "source": [
        "# Relplot example\n",
        "\n",
        "# <Adjust this code below>\n",
        "sns.relplot(data = data, x='time_from_stim', y='dF_F', kind = '<insert_param>', hue = 'exposure')\n",
        "\n"
      ],
      "metadata": {
        "id": "9HaXAeDOA0Ik"
      },
      "id": "9HaXAeDOA0Ik",
      "execution_count": null,
      "outputs": []
    },
    {
      "cell_type": "markdown",
      "source": [
        "Does this plot look similar to the first one? It should be exactly the same (note: the axes might appear visually stretched, but the data hasn't changed!). <br>\n",
        "\n",
        "This demonstrates that there may be multiple ways to use functions within packages to produce the same plots and data visualizations!"
      ],
      "metadata": {
        "id": "heLESs-KDtzB"
      },
      "id": "heLESs-KDtzB"
    },
    {
      "cell_type": "markdown",
      "id": "e2377906-8940-48bd-944f-1aa72ae8146c",
      "metadata": {
        "id": "e2377906-8940-48bd-944f-1aa72ae8146c"
      },
      "source": [
        "## Step 2: Figure aesthetics\n",
        "With **seaborn**, there are multiple options for controlling [aesthetics](https://seaborn.pydata.org/tutorial/aesthetics.html#). Review the link to see how we will start use `sns.set_style` and `sns.set_context`.  \n",
        "\n",
        "Let's also look at the data in a different way, using another variable from the dataset: `mean_response`. Discuss with your partner what this variable measures and how it relates to the previous one we were using, `dF_F`. <br> <br>\n",
        "\n",
        "We will also introduce another plot type `catplot` to display individual data points. Review the documentation [here](https://seaborn.pydata.org/tutorial/introduction.html#plots-for-categorical-data)."
      ]
    },
    {
      "cell_type": "markdown",
      "source": [
        "><b>Task:</b> Run the code below."
      ],
      "metadata": {
        "id": "h5tYLdujJUyR"
      },
      "id": "h5tYLdujJUyR"
    },
    {
      "cell_type": "code",
      "source": [
        "# Setup and plot data\n",
        "# Set style and context\n",
        "sns.set_style(\"whitegrid\")\n",
        "sns.set_context('talk') \n",
        "\n",
        "# Subset of the data (faster display, but entire dataset can be used)\n",
        "data_sample = data.sample(1000) \n",
        "\n",
        "# Categorical plot\n",
        "sns.catplot(data = data_sample, x = 'exposure', y = 'mean_response')"
      ],
      "metadata": {
        "id": "fON89-kYlq71"
      },
      "id": "fON89-kYlq71",
      "execution_count": null,
      "outputs": []
    },
    {
      "cell_type": "markdown",
      "source": [
        "><b>Task:</b> Re-run the code above after you have changed the `set_style` and `set_context` to different [options](https://seaborn.pydata.org/tutorial/aesthetics.html#). "
      ],
      "metadata": {
        "id": "4q4OljEtOACg"
      },
      "id": "4q4OljEtOACg"
    },
    {
      "cell_type": "markdown",
      "id": "504db2c0-715a-4975-83c9-1cb48613cb1a",
      "metadata": {
        "id": "504db2c0-715a-4975-83c9-1cb48613cb1a"
      },
      "source": [
        "#### 2.1 Colors\n",
        "**Seaborn** has multiple options for setting/changing colors. One recommended option is to use a predefined color [palette](https://seaborn.pydata.org/tutorial/color_palettes.html), but you can adjust this as you see fit. "
      ]
    },
    {
      "cell_type": "markdown",
      "source": [
        "><b>Task:</b> Run the code below. Review the code and the graph, and then re-run it with a different color."
      ],
      "metadata": {
        "id": "Ox9rG4a9PWPP"
      },
      "id": "Ox9rG4a9PWPP"
    },
    {
      "cell_type": "code",
      "execution_count": null,
      "id": "77ccde12-fe83-43d9-a0bf-a4826aacd86b",
      "metadata": {
        "id": "77ccde12-fe83-43d9-a0bf-a4826aacd86b"
      },
      "outputs": [],
      "source": [
        "# Plot with different colors\n",
        "# Setup context\n",
        "sns.set_context('talk')\n",
        "\n",
        "# <Change color>\n",
        "sns.catplot(data = data_sample, x = 'exposure', y = 'mean_response', color = 'blue')"
      ]
    },
    {
      "cell_type": "markdown",
      "source": [
        "><b>Task:</b> Run the code below. Review the code and the graph, and then re-run it with a different palette."
      ],
      "metadata": {
        "id": "_-CPDEf9Ptbd"
      },
      "id": "_-CPDEf9Ptbd"
    },
    {
      "cell_type": "code",
      "execution_count": null,
      "id": "22f4bcb9-b224-41a2-9db8-b1aafbd35001",
      "metadata": {
        "id": "22f4bcb9-b224-41a2-9db8-b1aafbd35001"
      },
      "outputs": [],
      "source": [
        "# Plot with palette\n",
        "# Setup context\n",
        "sns.set_context('talk')\n",
        "\n",
        "# <Change palette>\n",
        "sns.catplot(data = data_sample, x = 'exposure', y = 'mean_response', palette = 'gray')"
      ]
    },
    {
      "cell_type": "markdown",
      "source": [
        "><b>Task:</b> Review with your partner what properties were adjusted with the plots. What is the importance of these various settings? Can you think of examples of plots (good and bad!) you've seen before and why/why not you might choose different aesthetics?"
      ],
      "metadata": {
        "id": "k0K8GA6vPxK1"
      },
      "id": "k0K8GA6vPxK1"
    },
    {
      "cell_type": "markdown",
      "id": "af76d100-66d4-483b-8e18-750e2d83f2b6",
      "metadata": {
        "id": "af76d100-66d4-483b-8e18-750e2d83f2b6"
      },
      "source": [
        "#### 2.2 Labels\n",
        "We can also change the names of the labels on our plots. There are a few ways to do this, but the easiest is to interface with **matplotlib** like we did previously.\n"
      ]
    },
    {
      "cell_type": "markdown",
      "source": [
        "><b>Task:</b> Review the code and add labels by replacing `<insert_text>`.  Feel free to edit the settings we have been testing out if you would like to practice more and learn about options for using `set_style` and `palette`. Run the code below. <br> We are again plotting the calcium signal over (`dF_F`) over time (`time_from_stim`) by familiar/novel (`exposure`) conditions."
      ],
      "metadata": {
        "id": "-v_wBYoZQYoo"
      },
      "id": "-v_wBYoZQYoo"
    },
    {
      "cell_type": "code",
      "execution_count": null,
      "id": "10f6f59b-c748-4f1d-ba1d-f9e8c5b7e7bf",
      "metadata": {
        "id": "10f6f59b-c748-4f1d-ba1d-f9e8c5b7e7bf"
      },
      "outputs": [],
      "source": [
        "# Plot with adjusted labels\n",
        "# Another style option\n",
        "sns.set_style('ticks')\n",
        "\n",
        "# Plot with palette and adjust labels/title\n",
        "sns.lineplot(data = data, x = 'time_from_stim', y = 'dF_F', hue = 'exposure', palette = 'Blues')\n",
        "\n",
        "# <Adjust code below>\n",
        "plt.xlabel('<insert_text>')\n",
        "plt.ylabel('<insert_text>')\n",
        "plt.title('<insert_text>')\n",
        "\n",
        "\n"
      ]
    },
    {
      "cell_type": "markdown",
      "id": "b6fd783c-4447-4e07-bf02-ee3dfd66f2bd",
      "metadata": {
        "id": "b6fd783c-4447-4e07-bf02-ee3dfd66f2bd",
        "tags": []
      },
      "source": [
        "## Exercise\n",
        "1) Take one of the graphs we've created in class and change: <br>\n",
        "    a) colors - find a colorblind friendly palette <br>\n",
        "    b) labels - what should the axes say? Make sure these are informative. <br>\n",
        "    c) title - make this informative <br>\n",
        "    d) Advanced 1: modify the legend (if the plot has one) - can you change the bounding box color/style? <br>\n",
        "    e) Advanced 2: adjust the font of your graphs? <br>\n",
        "\n",
        "\n",
        "Feel free to use the documentation and google questions as they come up! Please also ask questions if you run into errors or have anything you'd like to discuss with us!"
      ]
    },
    {
      "cell_type": "code",
      "source": [
        "# Exercise code and notes go here"
      ],
      "metadata": {
        "id": "45SykItpSLvF"
      },
      "id": "45SykItpSLvF",
      "execution_count": null,
      "outputs": []
    },
    {
      "cell_type": "markdown",
      "id": "cc6142a2-6531-4a00-b120-3eceeb3f1580",
      "metadata": {
        "id": "cc6142a2-6531-4a00-b120-3eceeb3f1580"
      },
      "source": [
        "## Extra Exercise\n",
        "If you finish the above tasks in the exercise, try these out!\n",
        "\n",
        "1) Can you figure out how to make a [histogram](https://seaborn.pydata.org/tutorial/distributions.html) of pupil area in **Seaborn**? Use the subset of data below. <br>\n",
        "2) Now, how can you split the histogram by `exposure` to plot? <br>\n",
        "3) Advanced: If you have more time, play around with your plot! Be creative and see what else you can add to your histogram, using the [documentation](https://seaborn.pydata.org/tutorial/introduction.html#distributional-representations) as a guide."
      ]
    },
    {
      "cell_type": "code",
      "execution_count": null,
      "id": "ee32f150-380c-416e-8bd4-c8fbf361c5b9",
      "metadata": {
        "id": "ee32f150-380c-416e-8bd4-c8fbf361c5b9"
      },
      "outputs": [],
      "source": [
        "# Subset of data to use for this exercise\n",
        "data_sample = data.sample(1000)"
      ]
    },
    {
      "cell_type": "code",
      "execution_count": null,
      "id": "d006c6f6-9b8c-4046-b946-c6472a5e8421",
      "metadata": {
        "id": "d006c6f6-9b8c-4046-b946-c6472a5e8421"
      },
      "outputs": [],
      "source": [
        "# Exercise code goes here"
      ]
    },
    {
      "cell_type": "markdown",
      "id": "483e6ac6-50fd-4d17-9ef3-d96f4ce34df8",
      "metadata": {
        "id": "483e6ac6-50fd-4d17-9ef3-d96f4ce34df8"
      },
      "source": [
        "# Saving Figures\n",
        "You may want to save your plots separately from this notebook. This can be tricky and requires a few key pieces of information. Even if you specify a high DPI (dots per inch) - such as 300 for example (but it depends on the size of your plot)- sometimes axes can get cut off. Go through the code below and check your understanding. <br>\n",
        "\n",
        "Do you know where the figures are saved?\n",
        "\n",
        ">>Hint: Click on the folder image on the left side of the screen/notebook."
      ]
    },
    {
      "cell_type": "markdown",
      "source": [
        "><b>Task:</b> Run the code below. Review the lines and make sure you understand what they do from what we've covered today. If you're unsure or something is new, check out the [documentation](https://matplotlib.org/stable/api/_as_gen/matplotlib.pyplot.savefig.html)."
      ],
      "metadata": {
        "id": "QE-nsrqjVqvd"
      },
      "id": "QE-nsrqjVqvd"
    },
    {
      "cell_type": "code",
      "execution_count": null,
      "id": "fac3a08c-5c93-4b88-8901-34421e086634",
      "metadata": {
        "id": "fac3a08c-5c93-4b88-8901-34421e086634"
      },
      "outputs": [],
      "source": [
        "# Code to save figures\n",
        "# Set the size\n",
        "plt.figure(figsize=(8,4))\n",
        "\n",
        "# Plot the data\n",
        "sns.lineplot(data = data, x = 'time_from_stim' , y = 'dF_F', hue = 'exposure', style = 'omitted')\n",
        "plt.xlabel('Delta Stim')\n",
        "plt.ylabel('dF/F')\n",
        "plt.title('Real Data')\n",
        "\n",
        "# Save\n",
        "plt.savefig('my_figure.png', dpi = 300)"
      ]
    },
    {
      "cell_type": "markdown",
      "id": "4ab40032-4b64-464b-b6be-823b7222a33b",
      "metadata": {
        "id": "4ab40032-4b64-464b-b6be-823b7222a33b"
      },
      "source": [
        "This doesn't work- the x-axis label is cut off at the bottom after saving.\n",
        "\n",
        "><b>Task:</b> Run the code below. Review the lines and make sure you understand what they do from what we've covered today. If you're unsure or something is new, check out the [documentation](https://matplotlib.org/stable/api/_as_gen/matplotlib.pyplot.savefig.html)."
      ]
    },
    {
      "cell_type": "code",
      "execution_count": null,
      "id": "21abf646-2d82-4b8d-b7d8-46fe92202e5a",
      "metadata": {
        "id": "21abf646-2d82-4b8d-b7d8-46fe92202e5a"
      },
      "outputs": [],
      "source": [
        "# Code to save figures as PNG\n",
        "# Set the size\n",
        "plt.figure(figsize=(8,4))\n",
        "\n",
        "# Plot the data\n",
        "sns.lineplot(data = data, x = 'time_from_stim' , y = 'dF_F', hue = 'exposure', style = 'omitted')\n",
        "plt.xlabel('Delta Stim')\n",
        "plt.ylabel('dF/F')\n",
        "plt.title('Real Data')\n",
        "\n",
        "# Save- adjusting  with bbox_inches to fix cutoff text\n",
        "plt.savefig('my_figure.png', dpi = 300, bbox_inches = 'tight')"
      ]
    },
    {
      "cell_type": "code",
      "execution_count": null,
      "id": "aa0f1f3c-7f25-4575-b991-893c5ad205ee",
      "metadata": {
        "id": "aa0f1f3c-7f25-4575-b991-893c5ad205ee"
      },
      "outputs": [],
      "source": [
        "# Code to save figures as PDF\n",
        "# Set the size\n",
        "plt.figure(figsize=(8,4))\n",
        "\n",
        "# Plot the data\n",
        "sns.lineplot(data = data, x = 'time_from_stim' , y = 'dF_F', hue = 'exposure', style = 'omitted')\n",
        "plt.xlabel('Delta Stim')\n",
        "plt.ylabel('dF/F')\n",
        "plt.title('Real Data')\n",
        "\n",
        "# Save- adjusting  with bbox_inches to fix cutoff text\n",
        "plt.savefig('my_figure.pdf', dpi = 300, bbox_inches = 'tight')"
      ]
    },
    {
      "cell_type": "code",
      "source": [
        "# Fun =)\n",
        "from IPython.display import HTML\n",
        "print('Great work today!')\n",
        "HTML('<img src=\"https://media.giphy.com/media/jkvmzOg3LtpF6/giphy.gif\">')\n"
      ],
      "metadata": {
        "id": "ZcPIuUWHo2ZO"
      },
      "id": "ZcPIuUWHo2ZO",
      "execution_count": null,
      "outputs": []
    },
    {
      "cell_type": "markdown",
      "source": [
        "-----------\n",
        "\n",
        "# Technical notes & credits\n",
        "\n",
        "\n",
        "Much more information can be found in the [Allen Brain Institute whitepaper](https://brainmapportal-live-4cc80a57cd6e400d854-f7fdcae.divio-media.net/filer_public/4e/be/4ebe2911-bd38-4230-86c8-01a86cfd758e/visual_behavior_2p_technical_whitepaper.pdf) as well as in their <a href=\"http://allensdk.readthedocs.io/en/latest/visual_behavior_optical_physiology.html\"> documentation</a>.\n",
        "\n",
        "\n",
        "This file was developed from the [Allen Institute Notebooks](https://allensdk.readthedocs.io/en/latest/visual_behavior_optical_physiology.html), [Neuromatch Academy](https://compneuro.neuromatch.io/projects/neurons/README.html#allen-institute), and the [Columbia-Neuropythonistas repository](https://github.com/Columbia-Neuropythonistas). "
      ],
      "metadata": {
        "id": "5T06Q_hha2K0"
      },
      "id": "5T06Q_hha2K0"
    }
  ],
  "metadata": {
    "colab": {
      "provenance": [],
      "toc_visible": true
    },
    "kernelspec": {
      "display_name": "Python 3 (ipykernel)",
      "language": "python",
      "name": "python3"
    },
    "language_info": {
      "codemirror_mode": {
        "name": "ipython",
        "version": 3
      },
      "file_extension": ".py",
      "mimetype": "text/x-python",
      "name": "python",
      "nbconvert_exporter": "python",
      "pygments_lexer": "ipython3",
      "version": "3.10.6"
    }
  },
  "nbformat": 4,
  "nbformat_minor": 5
}